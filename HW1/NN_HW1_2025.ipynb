{
  "cells": [
    {
      "cell_type": "markdown",
      "id": "YfPhAJr3jOkh",
      "metadata": {
        "id": "YfPhAJr3jOkh"
      },
      "source": [
        "# HW 1"
      ]
    },
    {
      "cell_type": "code",
      "execution_count": 45,
      "id": "8cc148dc-d83d-4c32-bbb0-3ffd82ba4e98",
      "metadata": {
        "id": "8cc148dc-d83d-4c32-bbb0-3ffd82ba4e98"
      },
      "outputs": [],
      "source": [
        "import numpy as np\n",
        "import pandas as pd\n",
        "import matplotlib.pyplot as plt\n",
        "\n",
        "from sklearn.linear_model import LinearRegression\n",
        "from sklearn.model_selection import train_test_split\n",
        "from sklearn.metrics import r2_score\n",
        "from sklearn.preprocessing import MinMaxScaler\n",
        "\n",
        "%matplotlib inline"
      ]
    },
    {
      "cell_type": "markdown",
      "id": "e3a06e1e-3bc0-4667-84f3-7e86698c3737",
      "metadata": {
        "id": "e3a06e1e-3bc0-4667-84f3-7e86698c3737"
      },
      "source": [
        "# Загружаем выборку Diamonds"
      ]
    },
    {
      "cell_type": "markdown",
      "id": "sI-cvLDCjsua",
      "metadata": {
        "id": "sI-cvLDCjsua"
      },
      "source": [
        "На данной выборке можно проверять работоспособность своего решения"
      ]
    },
    {
      "cell_type": "markdown",
      "id": "c731a143-3dc9-43e7-96f5-b1eff9093345",
      "metadata": {
        "id": "c731a143-3dc9-43e7-96f5-b1eff9093345"
      },
      "source": [
        "1. PRICE: price in US dollars (326-18,823)\n",
        "2. CARAT: weight of the diamond (0.2--5.01)\n",
        "3. CUT: quality of the cut (Fair, Good, Very Good, Premium, Ideal)\n",
        "4. COLOR: diamond colour, from J (worst) to D (best)\n",
        "5. CLARITY: a measurement of how clear the diamond is (I1 (worst), SI2, SI1, VS2, VS1, VVS2, VVS1, IF (best))\n",
        "6. X: length in mm (0--10.74)\n",
        "7. Y: width in mm (0--58.9)\n",
        "8. Z: depth in mm (0--31.8)\n",
        "9. DEPTH: total depth percentage = z / mean(x, y) = 2 * z / (x + y) (43--79)\n",
        "10. TABLE: width of top of diamond relative to widest point (43--95)"
      ]
    },
    {
      "cell_type": "code",
      "execution_count": 46,
      "id": "0f24cf86-653a-422b-9df1-8029fdccf153",
      "metadata": {
        "id": "0f24cf86-653a-422b-9df1-8029fdccf153"
      },
      "outputs": [],
      "source": [
        "diamonds_df = pd.read_csv('diamonds.csv')"
      ]
    },
    {
      "cell_type": "code",
      "execution_count": 47,
      "id": "70d9ccfe-e1cf-4c90-a5ab-40ae0852f1ce",
      "metadata": {
        "colab": {
          "base_uri": "https://localhost:8080/",
          "height": 204
        },
        "id": "70d9ccfe-e1cf-4c90-a5ab-40ae0852f1ce",
        "outputId": "48caecef-fcb9-440b-dd8b-3e4189ff9708"
      },
      "outputs": [
        {
          "data": {
            "text/html": [
              "<div>\n",
              "<style scoped>\n",
              "    .dataframe tbody tr th:only-of-type {\n",
              "        vertical-align: middle;\n",
              "    }\n",
              "\n",
              "    .dataframe tbody tr th {\n",
              "        vertical-align: top;\n",
              "    }\n",
              "\n",
              "    .dataframe thead th {\n",
              "        text-align: right;\n",
              "    }\n",
              "</style>\n",
              "<table border=\"1\" class=\"dataframe\">\n",
              "  <thead>\n",
              "    <tr style=\"text-align: right;\">\n",
              "      <th></th>\n",
              "      <th>Unnamed: 0</th>\n",
              "      <th>carat</th>\n",
              "      <th>cut</th>\n",
              "      <th>color</th>\n",
              "      <th>clarity</th>\n",
              "      <th>depth</th>\n",
              "      <th>table</th>\n",
              "      <th>price</th>\n",
              "      <th>x</th>\n",
              "      <th>y</th>\n",
              "      <th>z</th>\n",
              "    </tr>\n",
              "  </thead>\n",
              "  <tbody>\n",
              "    <tr>\n",
              "      <th>0</th>\n",
              "      <td>1</td>\n",
              "      <td>0.23</td>\n",
              "      <td>Ideal</td>\n",
              "      <td>E</td>\n",
              "      <td>SI2</td>\n",
              "      <td>61.5</td>\n",
              "      <td>55.0</td>\n",
              "      <td>326</td>\n",
              "      <td>3.95</td>\n",
              "      <td>3.98</td>\n",
              "      <td>2.43</td>\n",
              "    </tr>\n",
              "    <tr>\n",
              "      <th>1</th>\n",
              "      <td>2</td>\n",
              "      <td>0.21</td>\n",
              "      <td>Premium</td>\n",
              "      <td>E</td>\n",
              "      <td>SI1</td>\n",
              "      <td>59.8</td>\n",
              "      <td>61.0</td>\n",
              "      <td>326</td>\n",
              "      <td>3.89</td>\n",
              "      <td>3.84</td>\n",
              "      <td>2.31</td>\n",
              "    </tr>\n",
              "    <tr>\n",
              "      <th>2</th>\n",
              "      <td>3</td>\n",
              "      <td>0.23</td>\n",
              "      <td>Good</td>\n",
              "      <td>E</td>\n",
              "      <td>VS1</td>\n",
              "      <td>56.9</td>\n",
              "      <td>65.0</td>\n",
              "      <td>327</td>\n",
              "      <td>4.05</td>\n",
              "      <td>4.07</td>\n",
              "      <td>2.31</td>\n",
              "    </tr>\n",
              "    <tr>\n",
              "      <th>3</th>\n",
              "      <td>4</td>\n",
              "      <td>0.29</td>\n",
              "      <td>Premium</td>\n",
              "      <td>I</td>\n",
              "      <td>VS2</td>\n",
              "      <td>62.4</td>\n",
              "      <td>58.0</td>\n",
              "      <td>334</td>\n",
              "      <td>4.20</td>\n",
              "      <td>4.23</td>\n",
              "      <td>2.63</td>\n",
              "    </tr>\n",
              "    <tr>\n",
              "      <th>4</th>\n",
              "      <td>5</td>\n",
              "      <td>0.31</td>\n",
              "      <td>Good</td>\n",
              "      <td>J</td>\n",
              "      <td>SI2</td>\n",
              "      <td>63.3</td>\n",
              "      <td>58.0</td>\n",
              "      <td>335</td>\n",
              "      <td>4.34</td>\n",
              "      <td>4.35</td>\n",
              "      <td>2.75</td>\n",
              "    </tr>\n",
              "  </tbody>\n",
              "</table>\n",
              "</div>"
            ],
            "text/plain": [
              "   Unnamed: 0  carat      cut color clarity  depth  table  price     x     y  \\\n",
              "0           1   0.23    Ideal     E     SI2   61.5   55.0    326  3.95  3.98   \n",
              "1           2   0.21  Premium     E     SI1   59.8   61.0    326  3.89  3.84   \n",
              "2           3   0.23     Good     E     VS1   56.9   65.0    327  4.05  4.07   \n",
              "3           4   0.29  Premium     I     VS2   62.4   58.0    334  4.20  4.23   \n",
              "4           5   0.31     Good     J     SI2   63.3   58.0    335  4.34  4.35   \n",
              "\n",
              "      z  \n",
              "0  2.43  \n",
              "1  2.31  \n",
              "2  2.31  \n",
              "3  2.63  \n",
              "4  2.75  "
            ]
          },
          "execution_count": 47,
          "metadata": {},
          "output_type": "execute_result"
        }
      ],
      "source": [
        "diamonds_df.head()"
      ]
    },
    {
      "cell_type": "code",
      "execution_count": 48,
      "id": "fad21c95-f542-44ec-8f06-8f57fd42ddef",
      "metadata": {
        "colab": {
          "base_uri": "https://localhost:8080/",
          "height": 430
        },
        "id": "fad21c95-f542-44ec-8f06-8f57fd42ddef",
        "outputId": "cda66a09-590c-45b0-9ed1-1699bfddaaf9"
      },
      "outputs": [
        {
          "data": {
            "image/png": "[encoded data removed]",
            "text/plain": [
              "<Figure size 640x480 with 1 Axes>"
            ]
          },
          "metadata": {},
          "output_type": "display_data"
        }
      ],
      "source": [
        "plt.hist(diamonds_df['price'], bins=100)\n",
        "plt.grid()"
      ]
    },
    {
      "cell_type": "markdown",
      "id": "17ac44bb-86c7-424a-8b9b-0a21bf490683",
      "metadata": {
        "id": "17ac44bb-86c7-424a-8b9b-0a21bf490683"
      },
      "source": [
        "# Подготовка данных"
      ]
    },
    {
      "cell_type": "code",
      "execution_count": 49,
      "id": "e19945ea-cecf-481e-a28b-3f9c11001918",
      "metadata": {
        "id": "e19945ea-cecf-481e-a28b-3f9c11001918"
      },
      "outputs": [],
      "source": [
        "features = ['carat', 'cut', 'color',\n",
        "            'clarity', 'depth', 'table', 'x', 'y', 'z']\n",
        "target = ['price']"
      ]
    },
    {
      "cell_type": "code",
      "execution_count": 50,
      "id": "fbc43eb0-e77f-4765-8b0e-b9052c093855",
      "metadata": {
        "id": "fbc43eb0-e77f-4765-8b0e-b9052c093855"
      },
      "outputs": [],
      "source": [
        "cut_transform = {'Fair': 0, 'Good': 1,\n",
        "                 'Very Good': 2, 'Premium': 3, 'Ideal': 4}\n",
        "clarity_transform = {'I1': 0, 'SI2': 1, 'SI1': 2,\n",
        "                     'VS2': 3, 'VS1': 4, 'VVS2': 5, 'VVS1': 6, 'IF': 7}\n",
        "color_transorm = {'D': 0, 'E': 1, 'F': 2, 'G': 3, 'H': 4, 'I': 5, 'J': 6}"
      ]
    },
    {
      "cell_type": "code",
      "execution_count": 51,
      "id": "6f82b34f-9ffc-478f-a103-b2cbbca49a94",
      "metadata": {
        "id": "6f82b34f-9ffc-478f-a103-b2cbbca49a94"
      },
      "outputs": [],
      "source": [
        "diamonds_df['cut'] = diamonds_df['cut'].apply(lambda x: cut_transform.get(x))\n",
        "diamonds_df['color'] = diamonds_df['color'].apply(\n",
        "    lambda x: color_transorm.get(x))\n",
        "diamonds_df['clarity'] = diamonds_df['clarity'].apply(\n",
        "    lambda x: clarity_transform.get(x))"
      ]
    },
    {
      "cell_type": "code",
      "execution_count": 52,
      "id": "8e5fa82b-92ed-4e79-adf2-422204b45e82",
      "metadata": {
        "id": "8e5fa82b-92ed-4e79-adf2-422204b45e82"
      },
      "outputs": [],
      "source": [
        "X = diamonds_df[features].copy().values\n",
        "y = diamonds_df[target].values"
      ]
    },
    {
      "cell_type": "code",
      "execution_count": 53,
      "id": "64c11d68-dc5c-4753-9cc4-3cc4e136f3cb",
      "metadata": {
        "id": "64c11d68-dc5c-4753-9cc4-3cc4e136f3cb"
      },
      "outputs": [],
      "source": [
        "X_train, X_test, y_train, y_test = train_test_split(\n",
        "    X, y, random_state=47, test_size=0.3)"
      ]
    },
    {
      "cell_type": "code",
      "execution_count": 54,
      "id": "rGU9tSuwk3Lp",
      "metadata": {
        "id": "rGU9tSuwk3Lp"
      },
      "outputs": [],
      "source": [
        "scaler = MinMaxScaler()\n",
        "X_train = scaler.fit_transform(X_train)\n",
        "X_test = scaler.transform(X_test)"
      ]
    },
    {
      "cell_type": "markdown",
      "id": "3b743ed1-d0cf-485d-b8f2-8c71fc174e8b",
      "metadata": {
        "id": "3b743ed1-d0cf-485d-b8f2-8c71fc174e8b"
      },
      "source": [
        "# Обучаем модель линейной регрессии"
      ]
    },
    {
      "cell_type": "code",
      "execution_count": 55,
      "id": "3N2iJEIuxW0H",
      "metadata": {
        "id": "3N2iJEIuxW0H"
      },
      "outputs": [],
      "source": [
        "reg = LinearRegression().fit(X_train, y_train)"
      ]
    },
    {
      "cell_type": "code",
      "execution_count": 56,
      "id": "f968e336-4049-41b2-81d1-4c24f0969bbb",
      "metadata": {
        "id": "f968e336-4049-41b2-81d1-4c24f0969bbb"
      },
      "outputs": [],
      "source": [
        "y_pred = reg.predict(X_test)"
      ]
    },
    {
      "cell_type": "code",
      "execution_count": 57,
      "id": "0952990a-b3d6-4da4-9cc6-1ab3a7a25ac7",
      "metadata": {
        "id": "0952990a-b3d6-4da4-9cc6-1ab3a7a25ac7"
      },
      "outputs": [],
      "source": [
        "score = r2_score(y_pred, y_test)"
      ]
    },
    {
      "cell_type": "code",
      "execution_count": 58,
      "id": "f89c3bbd-0a3a-48ac-b1ab-b75dc0c5bcce",
      "metadata": {
        "colab": {
          "base_uri": "https://localhost:8080/",
          "height": 452
        },
        "id": "f89c3bbd-0a3a-48ac-b1ab-b75dc0c5bcce",
        "outputId": "587de3bd-b38b-4de9-d156-ac034b9dc075"
      },
      "outputs": [
        {
          "data": {
            "image/png": "[encoded data removed]",
            "text/plain": [
              "<Figure size 640x480 with 1 Axes>"
            ]
          },
          "metadata": {},
          "output_type": "display_data"
        }
      ],
      "source": [
        "plt.title(f'R2: {str(score)[:5]}')\n",
        "plt.hist(y_pred.reshape(1, -1)[0], bins=100, label='PREDICTION')\n",
        "plt.hist(y_test.reshape(1, -1)[0], bins=100, label='GT')\n",
        "plt.legend()\n",
        "plt.grid()"
      ]
    },
    {
      "cell_type": "markdown",
      "id": "6nKJT7VRlIeU",
      "metadata": {
        "id": "6nKJT7VRlIeU"
      },
      "source": [
        "# Задание 1: Реализация Gradient Descent для модели линейной регрессии"
      ]
    },
    {
      "cell_type": "markdown",
      "id": "7UpV6l4clfwC",
      "metadata": {
        "id": "7UpV6l4clfwC"
      },
      "source": [
        "Ниже представлен шаблон кода, который необходимо дополнить, реализовав все указанные методы, и самостоятельно протестировать корректность решения. Можно (и даже нужно) добавлять свои методы для бОльшей читабельности кода\n",
        "\n",
        "Достаточно будет, чтобы код работал для случая, когда X и y - np.ndarray\n",
        "\n",
        "Внутри класса запрещается использовать сторонние библиотеки, кроме numpy"
      ]
    },
    {
      "cell_type": "code",
      "execution_count": 59,
      "id": "ohUWWybdlHYw",
      "metadata": {
        "id": "ohUWWybdlHYw"
      },
      "outputs": [],
      "source": [
        "from typing import Self, Literal\n",
        "import numpy as np\n",
        "\n",
        "\n",
        "class LinearRegressorGD:\n",
        "    \"\"\"\n",
        "    Линейная регрессия с использованием Gradient Descent\n",
        "    \"\"\"\n",
        "\n",
        "    def __init__(\n",
        "            self: Self,\n",
        "            *,\n",
        "            learning_rate: float = 0.01,\n",
        "            n_iter: int = 1000,\n",
        "            random_state: int | None = None\n",
        "    ):\n",
        "        \"\"\"\n",
        "        Конструктор класса\n",
        "\n",
        "        Параметры:\n",
        "            learning_rate (float): Скорость обучения\n",
        "            n_iter (int): Количество итераций градиентного спуска\n",
        "            random_state (int | None): Запоминаем зерно \n",
        "        \"\"\"\n",
        "        self.learning_rate = learning_rate\n",
        "        self.n_iter = n_iter\n",
        "        self.random_state = random_state\n",
        "\n",
        "        # private\n",
        "        self._coef = None  # Веса\n",
        "        self._intercept = 0.0  # Смещение\n",
        "\n",
        "        self.fixedGenerator = np.random.default_rng(self.random_state)\n",
        "\n",
        "    def fit(self: Self, X: np.ndarray, y: np.ndarray):\n",
        "        \"\"\"\n",
        "        Обучение модели на обучающей выборке с использованием\n",
        "        градиентного спуска\n",
        "\n",
        "        Параметры:\n",
        "            X (np.ndarray): Матрица признаков размера (n_samples, n_features)\n",
        "            y (np.ndarray): Вектор таргета длины n_samples\n",
        "        \"\"\"\n",
        "        xIn = np.asarray(X)\n",
        "        yIn = np.asarray(y).reshape(-1)\n",
        "\n",
        "        rows = xIn.shape[0]\n",
        "        cols = xIn.shape[1]\n",
        "\n",
        "        self._coef = self.fixedGenerator.normal(0, 1, size=cols)\n",
        "        self._intercept = 0.0\n",
        "\n",
        "        for epoch in range(self.n_iter):\n",
        "            yValue = xIn.dot(self._coef) + self._intercept\n",
        "            error = yValue - yIn\n",
        "\n",
        "            gradientWeights = (2/rows) * xIn.T.dot(error)  # по весам\n",
        "            gradientIntercept = (2/rows) * np.sum(error)  # по смещению\n",
        "\n",
        "            self._coef -= self.learning_rate * gradientWeights\n",
        "            self._intercept -= self.learning_rate * gradientIntercept\n",
        "        \n",
        "        return self\n",
        "\n",
        "    def predict(self: Self, X: np.ndarray):\n",
        "        \"\"\"\n",
        "        Получение предсказаний обученной модели\n",
        "\n",
        "        Параметры:\n",
        "            X (np.ndarray): Матрица признаков\n",
        "\n",
        "        Возвращает:\n",
        "            np.ndarray: Предсказание для каждого элемента из X\n",
        "        \"\"\"\n",
        "        xIn = np.asarray(X)\n",
        "        return xIn.dot(self._coef) + self._intercept\n",
        "\n",
        "    def get_params(self: Self):\n",
        "        \"\"\"\n",
        "        Возвращает обученные параметры модели\n",
        "        \"\"\"\n",
        "        return {\"coef\": self._coef.copy(), \"intercept\": float(self._intercept)}"
      ]
    },
    {
      "cell_type": "code",
      "execution_count": 60,
      "id": "7353ee21",
      "metadata": {},
      "outputs": [],
      "source": [
        "reg = LinearRegressorGD(n_iter = 10000).fit(X_train, y_train)"
      ]
    },
    {
      "cell_type": "code",
      "execution_count": 61,
      "id": "337eb95b",
      "metadata": {},
      "outputs": [],
      "source": [
        "y_pred = reg.predict(X_test)"
      ]
    },
    {
      "cell_type": "code",
      "execution_count": 62,
      "id": "1e1899f8",
      "metadata": {},
      "outputs": [],
      "source": [
        "score = r2_score(y_pred, y_test)"
      ]
    },
    {
      "cell_type": "code",
      "execution_count": 63,
      "id": "31e10936",
      "metadata": {},
      "outputs": [
        {
          "data": {
            "image/png": "[encoded data removed]",
            "text/plain": [
              "<Figure size 640x480 with 1 Axes>"
            ]
          },
          "metadata": {},
          "output_type": "display_data"
        }
      ],
      "source": [
        "plt.title(f'R2: {str(score)[:5]}')\n",
        "plt.hist(y_pred.reshape(1, -1)[0], bins=100, label='PREDICTION')\n",
        "plt.hist(y_test.reshape(1, -1)[0], bins=100, label='GT')\n",
        "plt.legend()\n",
        "plt.grid()"
      ]
    },
    {
      "cell_type": "markdown",
      "id": "ebkQuLxTpTmF",
      "metadata": {
        "id": "ebkQuLxTpTmF"
      },
      "source": [
        "# Задание 2: Реализация backpropagation для MLP"
      ]
    },
    {
      "cell_type": "markdown",
      "id": "2G7W8JLzpZRf",
      "metadata": {
        "id": "2G7W8JLzpZRf"
      },
      "source": [
        "Ниже представлен шаблон кода, который необходимо дополнить, реализовав все указанные методы, и самостоятельно протестировать корректность решения. Можно (и даже нужно) добавлять свои методы для бОльшей читабельности кода\n",
        "\n",
        "Достаточно будет, чтобы код работал для случая, когда X и y - np.ndarray\n",
        "\n",
        "В качестве функции активации на внутренних слоях нужно использовать Sigmoid, а на выходе - линейную активацию f(x) = x\n",
        "\n",
        "Внутри класса запрещается использовать сторонние библиотеки, кроме numpy"
      ]
    },
    {
      "cell_type": "code",
      "execution_count": 64,
      "id": "mh30KL1jpZr5",
      "metadata": {
        "id": "mh30KL1jpZr5"
      },
      "outputs": [],
      "source": [
        "from typing import Self, Literal\n",
        "import numpy as np\n",
        "\n",
        "\n",
        "class MYMLPRegressor:\n",
        "    \"\"\"\n",
        "    Многослойный перцептрон (MLP) для задачи регрессии, использующий алгоритм\n",
        "    обратного распространения ошибки\n",
        "    \"\"\"\n",
        "\n",
        "    def __init__(\n",
        "            self: Self,\n",
        "            *,\n",
        "            hidden_layer_sizes: tuple[int, ...] = (100,),\n",
        "            learning_rate: float = 0.01,\n",
        "            n_iter: int = 100,\n",
        "            random_state: int | None = None\n",
        "    ):\n",
        "        \"\"\"\n",
        "        Конструктор класса\n",
        "\n",
        "        Параметры:\n",
        "            hidden_layer_sizes (tuple): Кортеж, определяющий архитектуру\n",
        "        скрытых слоев. Например (100, 10) - два скрытых слоя, размером 100 и 10\n",
        "        нейронов, соответственно\n",
        "            learning_rate (float): Скорость обучения\n",
        "            n_iter (int): Количество итераций градиентного спуска\n",
        "        \"\"\"\n",
        "        self.hidden_layer_sizes = hidden_layer_sizes\n",
        "        self.learning_rate = learning_rate\n",
        "        self.n_iter = n_iter\n",
        "        self.random_state = random_state\n",
        "        self.fixedGenerator = np.random.default_rng(self.random_state)\n",
        "\n",
        "        # Храним данные по прямым проходам\n",
        "\n",
        "        self.weights: list[np.ndarray] = []\n",
        "        self.bias: list[np.ndarray] = []\n",
        "        self.linear_sum: list[np.ndarray] = []\n",
        "        self.activation: list[np.ndarray] = []  # включая A_0 = X\n",
        "\n",
        "    def _initialize_weights(self: Self, n_features: int, n_outputs: int):\n",
        "        self.weights.clear()\n",
        "        self.bias.clear()\n",
        "\n",
        "        layer_sizes: list = [n_features] + \\\n",
        "            list(self.hidden_layer_sizes) + [n_outputs]\n",
        "\n",
        "        for i in range(len(layer_sizes) - 1):\n",
        "            inSz = layer_sizes[i]\n",
        "            outSz = layer_sizes[i+1]\n",
        "            W = self.fixedGenerator.normal(0, 1, size=(inSz, outSz))\n",
        "            b = np.zeros((1, outSz), dtype=float)\n",
        "\n",
        "            self.weights.append(W)\n",
        "            self.bias.append(b)\n",
        "\n",
        "    def _sigmoid(self: Self, x: np.ndarray):\n",
        "        x = np.clip(x, -500.0, 500.0)\n",
        "        return 1.0 / (1.0 + np.exp(-x))\n",
        "\n",
        "    def forward(self: Self, X: np.ndarray):\n",
        "        \"\"\"\n",
        "        Реализация forward pass\n",
        "\n",
        "        Параметры:\n",
        "            X (np.ndarray): Матрица признаков размера (n_samples, n_features)\n",
        "\n",
        "        Возвращает:\n",
        "            np.ndarray: Предсказания модели\n",
        "        \"\"\"\n",
        "        X = np.asarray(X, dtype=float)\n",
        "\n",
        "        self.activation.clear()\n",
        "        self.linear_sum.clear()\n",
        "\n",
        "        A = X\n",
        "        self.activation.append(A)\n",
        "\n",
        "        # Скрытые слои\n",
        "        for l in range(len(self.weights) - 1):\n",
        "            Z = A.dot(self.weights[l]) + self.bias[l]\n",
        "            self.linear_sum.append(Z)\n",
        "            A = self._sigmoid(Z)\n",
        "            self.activation.append(A)\n",
        "\n",
        "        # Выходной слой\n",
        "        Z_last = A.dot(self.weights[-1]) + self.bias[-1]\n",
        "        self.linear_sum.append(Z_last)\n",
        "        A_last = Z_last\n",
        "        self.activation.append(A_last)\n",
        "\n",
        "        return A_last\n",
        "\n",
        "    def backward(self: Self, X: np.ndarray, y: np.ndarray):\n",
        "        \"\"\"\n",
        "        Реализация backward pass\n",
        "\n",
        "        Возвращает:\n",
        "            X (np.ndarray): Матрица признаков размера (n_samples, n_features)\n",
        "            y (np.ndarray): Вектор таргета длины n_samples\n",
        "        \"\"\"\n",
        "\n",
        "        X = np.asarray(X, dtype=float)\n",
        "        y = np.asarray(y, dtype=float).reshape(-1, 1)\n",
        "        n = X.shape[0]\n",
        "\n",
        "        y_pred = self.activation[-1]\n",
        "        delta = (2.0 / n) * (y_pred - y)\n",
        "        deltas: list[np.ndarray] = [delta]\n",
        "\n",
        "        for l in reversed(range(len(self.weights) - 1)):\n",
        "            W_l_next = self.weights[l + 1]\n",
        "            A_l = self.activation[l + 1]  # со сдвигом т.к. включен A[0]\n",
        "\n",
        "            dL_da = delta.dot(W_l_next.T)\n",
        "            sigma_deriv = A_l * (1.0 - A_l)\n",
        "            delta = dL_da * sigma_deriv\n",
        "            deltas.append(delta)\n",
        "\n",
        "        deltas.reverse()\n",
        "\n",
        "        # Градиент\n",
        "        for l in range(len(self.weights)):\n",
        "            A_prev = self.activation[l]\n",
        "            dL_dW = A_prev.T.dot(deltas[l])\n",
        "            dL_db = np.sum(deltas[l], axis=0, keepdims=True)\n",
        "\n",
        "            self.weights[l] -= self.learning_rate * dL_dW\n",
        "            self.bias[l] -= self.learning_rate * dL_db\n",
        "\n",
        "        loss = float(np.mean((y_pred - y) ** 2))\n",
        "\n",
        "        return loss\n",
        "\n",
        "    def fit(self: Self, X: np.ndarray, y: np.ndarray):\n",
        "        \"\"\"\n",
        "        Обучение модели\n",
        "\n",
        "        Параметры:\n",
        "            X (np.ndarray): Матрица признаков размера (n_samples, n_features)\n",
        "            y (np.ndarray): Вектор таргета длины n_samples\n",
        "        \"\"\"\n",
        "        X = np.asarray(X, dtype=float)\n",
        "        y = np.asarray(y, dtype=float).reshape(-1, 1)\n",
        "        samples = X.shape[0]\n",
        "        features = X.shape[1]\n",
        "\n",
        "        self._initialize_weights(n_features=features, n_outputs=1)\n",
        "\n",
        "        for i in range(self.n_iter):\n",
        "            y_pred = self.forward(X)\n",
        "            loss = self.backward(X, y)\n",
        "\n",
        "        return self\n",
        "\n",
        "    def predict(self: Self, X: np.ndarray):\n",
        "        \"\"\"\n",
        "        Получение предсказаний обученной модели\n",
        "\n",
        "        Параметры:\n",
        "            X (np.ndarray): Матрица признаков\n",
        "\n",
        "        Возвращает:\n",
        "            np.ndarray: Предсказание для каждого элемента из X\n",
        "        \"\"\"\n",
        "        X = np.asarray(X, dtype=float)\n",
        "        y_pred = self.forward(X)\n",
        "\n",
        "        return y_pred.reshape(-1)"
      ]
    },
    {
      "cell_type": "markdown",
      "id": "6493d302",
      "metadata": {},
      "source": [
        "# MLPRegressor Sklearn"
      ]
    },
    {
      "cell_type": "code",
      "execution_count": 65,
      "id": "044fea5f",
      "metadata": {},
      "outputs": [
        {
          "data": {
            "image/png": "[encoded data removed]",
            "text/plain": [
              "<Figure size 640x480 with 1 Axes>"
            ]
          },
          "metadata": {},
          "output_type": "display_data"
        }
      ],
      "source": [
        "from sklearn.compose import TransformedTargetRegressor\n",
        "from sklearn.preprocessing import StandardScaler\n",
        "from sklearn.neural_network import MLPRegressor\n",
        "from sklearn.pipeline import Pipeline\n",
        "\n",
        "pipe = Pipeline([\n",
        "    (\"x_scaler\", StandardScaler()),\n",
        "    (\"reg\", TransformedTargetRegressor(\n",
        "        regressor=MLPRegressor(\n",
        "            hidden_layer_sizes=(10, 10),\n",
        "            solver=\"sgd\",\n",
        "            activation=\"logistic\",\n",
        "            learning_rate_init=1e-2,\n",
        "            learning_rate=\"adaptive\",\n",
        "            alpha=1e-5,\n",
        "            max_iter=5000,\n",
        "            early_stopping=True,\n",
        "            n_iter_no_change=20,\n",
        "            random_state=42\n",
        "        ),\n",
        "        transformer=StandardScaler()\n",
        "    ))\n",
        "])\n",
        "\n",
        "pipe.fit(X_train, y_train.ravel())\n",
        "y_pred_sk = pipe.predict(X_test)\n",
        "\n",
        "score = r2_score(y_test, y_pred_sk)\n",
        "\n",
        "y_pred = y_pred_sk.ravel()\n",
        "y_true = y_test.ravel()\n",
        "\n",
        "\n",
        "plt.figure()\n",
        "plt.title(f'R2: {r2_score(y_true, y_pred):.4f}')\n",
        "\n",
        "plt.hist(y_pred, histtype='step', linewidth=1.8, label='PREDICTION', density=True)\n",
        "plt.hist(y_true, histtype='step', linewidth=1.8, label='GT', density=True)\n",
        "\n",
        "plt.legend()\n",
        "plt.grid(True)\n",
        "plt.tight_layout()\n",
        "plt.show()"
      ]
    },
    {
      "cell_type": "markdown",
      "id": "7147d38f",
      "metadata": {},
      "source": [
        "# MLPRegressor в рамках ДЗ"
      ]
    },
    {
      "cell_type": "code",
      "execution_count": 66,
      "id": "83faf37d",
      "metadata": {},
      "outputs": [
        {
          "data": {
            "image/png": "[encoded data removed]",
            "text/plain": [
              "<Figure size 640x480 with 1 Axes>"
            ]
          },
          "metadata": {},
          "output_type": "display_data"
        }
      ],
      "source": [
        "import numpy as np\n",
        "import matplotlib.pyplot as plt\n",
        "from sklearn.preprocessing import StandardScaler\n",
        "from sklearn.metrics import r2_score\n",
        "\n",
        "x_scaler = StandardScaler()\n",
        "y_scaler = StandardScaler()\n",
        "\n",
        "X_train_scaled = x_scaler.fit_transform(X_train)\n",
        "y_train_scaled = y_scaler.fit_transform(y_train.reshape(-1, 1)).ravel()\n",
        "\n",
        "X_test_scaled  = x_scaler.transform(X_test)\n",
        "y_test_scaled  = y_scaler.transform(y_test.reshape(-1, 1)).ravel()\n",
        "\n",
        "mlp = MYMLPRegressor(\n",
        "    hidden_layer_sizes=(10, 10),\n",
        "    learning_rate=1e-2,\n",
        "    n_iter=5000,\n",
        "    random_state=42\n",
        ")\n",
        "\n",
        "mlp.fit(X_train_scaled, y_train_scaled)\n",
        "\n",
        "y_pred_scaled = mlp.predict(X_test_scaled)\n",
        "\n",
        "# Обратное преобразование к исходной шкале\n",
        "y_pred = y_scaler.inverse_transform(y_pred_scaled.reshape(-1, 1)).ravel()\n",
        "y_true = y_test.ravel()\n",
        "\n",
        "score = r2_score(y_true, y_pred)\n",
        "\n",
        "plt.figure()\n",
        "plt.title(f'R2: {score:.4f}')\n",
        "plt.hist(y_pred, histtype='step', linewidth=1.8, label='PREDICTION', density=True)\n",
        "plt.hist(y_true, histtype='step', linewidth=1.8, label='GT', density=True)\n",
        "plt.legend()\n",
        "plt.grid(True)\n",
        "plt.tight_layout()\n",
        "plt.show()"
      ]
    }
  ],
  "metadata": {
    "colab": {
      "provenance": []
    },
    "kernelspec": {
      "display_name": "Python 3",
      "language": "python",
      "name": "python3"
    },
    "language_info": {
      "codemirror_mode": {
        "name": "ipython",
        "version": 3
      },
      "file_extension": ".py",
      "mimetype": "text/x-python",
      "name": "python",
      "nbconvert_exporter": "python",
      "pygments_lexer": "ipython3",
      "version": "3.12.10"
    }
  },
  "nbformat": 4,
  "nbformat_minor": 5
}
